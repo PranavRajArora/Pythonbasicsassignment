{
 "cells": [
  {
   "cell_type": "code",
   "execution_count": null,
   "id": "337195c2-d8cc-47fa-ae47-4b01418b3187",
   "metadata": {},
   "outputs": [],
   "source": [
    "###\n",
    "Q:1.Explain the key features of Python that make it a popular choice for programming0\n",
    "A: Python is one of the leading programming languages in the world for several reason. They are listed as follows:\n",
    "1. Easy to learn and write- Compared to other programming languages, python is easy to understand as it is very easy to the english Language, which encourages many beginners to learn. Without having complex steps, Python has become the number 1 choice for programmers and developers. \n",
    "\n",
    "2. Vast active coomunity- There is a vast community of active python users who continously help and update the data libraries like NumPy, Pandas, etc helping beginners to get a better understanding of the language and have many examples to refer to.\n",
    "\n",
    "3. Extensive data library- Python has an extensive data library which means it reduces the time to write a code from scratch.\n",
    "\n",
    "4. Open Source- Python is free to use by any one across the world. The codes or the potentials of Python are not just limited to a selected community.\n",
    "\n",
    "5. Versatality- Python as a language is versatile and it has its implementation is various spheres such as AI, Automation, Web Development, App Development, cybersecurity, Data Analytics, Data Science, and many more.\n",
    "\n",
    "6. Cross platform compatibility- Being a versatile language, it is supported by various Operating Systems such as Windows, Mac, Linux.\n",
    "\n",
    "7. Supports multiple programming paradigms- This is one of the most important capabilities of Python. Users can write codes using procedural, object-oriented or functional styles.\n",
    "###"
   ]
  },
  {
   "cell_type": "code",
   "execution_count": null,
   "id": "9fe3d989-7ffe-4781-9dab-0c237dd2dd82",
   "metadata": {},
   "outputs": [],
   "source": [
    "###\n",
    "Q:2. Describe the role of predefined keywords in Python and provide examples of how they are used in a program?\n",
    "A:2 Predefined keywords are reserved words that have special meaning in Python. They keywords cannot be used as an identifiers or variables or assigned to function names. The are like guidelines that need to be followed while writing a code in Python just like grammar controls the english language.\n",
    "Example below:\n",
    "Example 1-if, elif, else\n",
    "Exmaple 2- for, in\n",
    "Example 3- input, int(Type casting), if, elif, else \n",
    "###\n"
   ]
  },
  {
   "cell_type": "code",
   "execution_count": 8,
   "id": "8e3e12f2-079e-4fd7-9c82-ccea281b0c2e",
   "metadata": {},
   "outputs": [
    {
     "name": "stdout",
     "output_type": "stream",
     "text": [
      "It is lower\n"
     ]
    }
   ],
   "source": [
    "#example 1#\n",
    "x= 5\n",
    "if x<10:\n",
    "    print(\"It is lower\")\n",
    "elif x==10:\n",
    "    print(\"It is equal\")\n",
    "else:\n",
    "    print(\"It is greater\")"
   ]
  },
  {
   "cell_type": "code",
   "execution_count": 7,
   "id": "7a0ad708-6ce8-4675-a96d-3746760c144a",
   "metadata": {},
   "outputs": [
    {
     "name": "stdout",
     "output_type": "stream",
     "text": [
      "0\n",
      "1\n",
      "2\n",
      "3\n",
      "4\n",
      "5\n",
      "6\n",
      "7\n",
      "8\n",
      "9\n"
     ]
    }
   ],
   "source": [
    "#example 2#\n",
    "for i in(range(10)):\n",
    "    print (i)"
   ]
  },
  {
   "cell_type": "code",
   "execution_count": 10,
   "id": "417f2cbd-6199-497e-92b1-580dff1ad6ac",
   "metadata": {},
   "outputs": [
    {
     "name": "stdin",
     "output_type": "stream",
     "text": [
      "What is your score? 24\n"
     ]
    },
    {
     "name": "stdout",
     "output_type": "stream",
     "text": [
      "You have failed. Retake the test\n"
     ]
    }
   ],
   "source": [
    "#example 3#\n",
    "score= input(\"What is your score?\")\n",
    "a= int(score)\n",
    "if a <=30:\n",
    "    print(\"You have failed. Retake the test\")\n",
    "elif a <= 50:\n",
    "    print(\"You are in 3rd division\")\n",
    "elif a <= 70:\n",
    "    print(\"You are in 2nd division\")\n",
    "elif a <= 90:\n",
    "    print(\"you are in 1st division\")\n",
    "else:\n",
    "    print(\"You are 1st class\")"
   ]
  },
  {
   "cell_type": "code",
   "execution_count": null,
   "id": "0fe2dd0c-9137-4d37-a8aa-d3d16624d10d",
   "metadata": {},
   "outputs": [],
   "source": [
    "###\n",
    "Q3. Compare and contrast mutable and immutable objects in Python with examples.\n",
    "A:3. Objects or data containers in Python which can be changed or manipulated after they have been created or assigned are called Mutable data (e.g; list, dictionary, sets).\n",
    "A:3. The data in Python which CANNOT be changed or manipulated after they have been created or assigned are called Immutable data (e.g; string, tuples, float, int)\n",
    "Mutable data have importance in a program where the data needs to change i.e; the data is dynamic whereas immutable data hold importance in a program where the fixed, i.e; it is static.\n",
    "###\n"
   ]
  },
  {
   "cell_type": "code",
   "execution_count": 13,
   "id": "ce810f5b-e6d0-4a04-958b-84a1c4842105",
   "metadata": {},
   "outputs": [
    {
     "name": "stdout",
     "output_type": "stream",
     "text": [
      "[2, 'Raj', 4.5, True]\n"
     ]
    }
   ],
   "source": [
    "#example of mutable data#\n",
    "cont= [1, \"Raj\", 4.5, True,]\n",
    "cont[0]= 2\n",
    "print(cont)"
   ]
  },
  {
   "cell_type": "code",
   "execution_count": 18,
   "id": "05691f4c-fc01-45b2-9e9b-75cf99fee269",
   "metadata": {},
   "outputs": [
    {
     "name": "stdout",
     "output_type": "stream",
     "text": [
      "Original data: Raj\n",
      "ID before change: 2093033399440\n",
      "Modified string: Raj Arora\n",
      "ID after change: 2093033685296\n"
     ]
    }
   ],
   "source": [
    "#example of immutable data#\n",
    "name = \"Raj\"\n",
    "print(\"Original data:\", name)\n",
    "print(\"ID before change:\", id(name))\n",
    "\n",
    "# To change the string\n",
    "name = name + \" Arora\"  # This creates a NEW string\n",
    "print(\"Modified string:\", name)\n",
    "print(\"ID after change:\", id(name))\n",
    "#when we run the code, we can see the change in the location of memory for the new data #"
   ]
  },
  {
   "cell_type": "code",
   "execution_count": null,
   "id": "14c94521-823e-4760-a20b-b51f07b82b6b",
   "metadata": {},
   "outputs": [],
   "source": [
    "\"\"\"\n",
    "Q:4. Discuss the different types of operators in Python and provide examples of how they are used?\n",
    "A:4.\n",
    "The operators in Python are broadly classified into 7 types:\n",
    "(i) Arithmetic Operators (addition, subtraction, division, multiplication, modulus, exponentiation)\n",
    "(ii) Comparison Operators (Equal to, not equal to, less than, greater than, Greater than equal to, less than equal to)\n",
    "(iii) Logical Operators (and, or, not)\n",
    "(iv) Bitwise Operators (&, XOR, NOT )\n",
    "(v) Assignment Operators (equals, add and assign, subtract and assign, divide and assign)\n",
    "(vi) Membership Operators(in, not in)\n",
    "(vii) Identity Operators (is, is not)\n",
    "\"\"\"\n",
    "\n"
   ]
  },
  {
   "cell_type": "code",
   "execution_count": 21,
   "id": "bf43b8a7-48ab-404f-b0fd-cd32f16cb780",
   "metadata": {},
   "outputs": [
    {
     "name": "stdin",
     "output_type": "stream",
     "text": [
      "Enter the 1st number:  10\n",
      "Enter the 2nd number:  5\n"
     ]
    },
    {
     "name": "stdout",
     "output_type": "stream",
     "text": [
      "the sum is:  15.0\n",
      "the subtracted remainder is:  5.0\n",
      "the product is:  50.0\n",
      "the remainder is:  2.0\n"
     ]
    }
   ],
   "source": [
    "#Example of Arithmetic operators#\n",
    "a= float(input(\"Enter the 1st number: \"))\n",
    "b= float(input(\"Enter the 2nd number: \"))\n",
    "print(\"the sum is: \", a+b)\n",
    "print(\"the subtracted remainder is: \", a-b)\n",
    "print(\"the product is: \", a*b)\n",
    "print(\"the remainder is: \", a/b)"
   ]
  },
  {
   "cell_type": "code",
   "execution_count": 1,
   "id": "103ae9e6-3df3-4053-a1a2-8585e1835e60",
   "metadata": {},
   "outputs": [
    {
     "name": "stdout",
     "output_type": "stream",
     "text": [
      "Its a match\n"
     ]
    }
   ],
   "source": [
    "#Example of comparison operator#\n",
    "a=10\n",
    "if a<= 9:\n",
    "    print(\"The number is not suiatable\")\n",
    "elif a==10:\n",
    "    print(\"Its a match\")\n",
    "else:\n",
    "    print(\"the number is greater\")"
   ]
  },
  {
   "cell_type": "code",
   "execution_count": 6,
   "id": "42198e5f-17d7-48d1-acbc-e14347ad0896",
   "metadata": {},
   "outputs": [
    {
     "name": "stdout",
     "output_type": "stream",
     "text": [
      "a and b: False\n",
      "a or b: True\n",
      "not a: False\n",
      "not b: True\n"
     ]
    }
   ],
   "source": [
    "#example of logical operators#\n",
    "a = True\n",
    "b = False\n",
    "\n",
    "# Using 'and' operator\n",
    "print(\"a and b:\", a and b)  # False because one is False\n",
    "\n",
    "# Using 'or' operator\n",
    "print(\"a or b:\", a or b)   # True because one is True\n",
    "\n",
    "# Using 'not' operator\n",
    "print(\"not a:\", not a)     # False because 'a' is True\n",
    "print(\"not b:\", not b)    "
   ]
  },
  {
   "cell_type": "code",
   "execution_count": 7,
   "id": "dcef8c33-3bfd-44fe-9cda-2ee4fc7c5b1d",
   "metadata": {},
   "outputs": [
    {
     "name": "stdout",
     "output_type": "stream",
     "text": [
      "a = 10\n",
      "b = 4\n",
      "a & b = 0\n",
      "a | b = 14\n",
      "a ^ b = 14\n",
      "~a = -11\n"
     ]
    }
   ],
   "source": [
    "#example of bitwise operator#\n",
    "a = 10  # in binary: 1010\n",
    "b = 4   # in binary: 0100\n",
    "\n",
    "print(\"a =\", a)\n",
    "print(\"b =\", b)\n",
    "\n",
    "print(\"a & b =\", a & b)  \n",
    "#AND operator \n",
    "#1010 & 0100 = 0000 (4)\n",
    "\n",
    "print(\"a | b =\", a | b)  \n",
    "#OR operator\n",
    "# 1010 | 0100 = 1110 (14)\n",
    "\n",
    "print(\"a ^ b =\", a ^ b)  \n",
    "#XOR operator\n",
    "# 1010 ^ 0100 = 1110 (14)\n",
    "\n",
    "print(\"~a =\", ~a)        \n",
    "#NOT operator\n",
    "# ~1010 = -(a + 1) = -11\n"
   ]
  },
  {
   "cell_type": "code",
   "execution_count": 8,
   "id": "4cf4a398-a1ab-406a-b35b-13456b8196a0",
   "metadata": {},
   "outputs": [
    {
     "name": "stdout",
     "output_type": "stream",
     "text": [
      "True\n",
      "True\n"
     ]
    }
   ],
   "source": [
    "#Membership operators#\n",
    "games= [\"cricket\", \"football\", \"rugby\"]\n",
    "\n",
    "print(\"cricket\" in games)\n",
    "print(\"swimming\" not in games)"
   ]
  },
  {
   "cell_type": "code",
   "execution_count": 11,
   "id": "a525129d-9ea6-4bfa-a49c-aef6c140b514",
   "metadata": {},
   "outputs": [
    {
     "name": "stdout",
     "output_type": "stream",
     "text": [
      "True\n",
      "False\n",
      "True\n",
      "True\n"
     ]
    }
   ],
   "source": [
    "#Identity operators#\n",
    "a = 2\n",
    "b = 2\n",
    "c = [1,2]\n",
    "d = [1,2]\n",
    "\n",
    "print(a is b)   #a and b are the same value    \n",
    "print(c is d)      #c and d look same but they have different locations in the memory container\n",
    "print(c == d)      #c and d are the same value even if they are in different locations\n",
    "print(c is not d)   #True as they have different locations in the container"
   ]
  },
  {
   "cell_type": "code",
   "execution_count": null,
   "id": "60192e48-c468-47cc-ae8f-537e3ec9ea8f",
   "metadata": {},
   "outputs": [],
   "source": [
    "###\n",
    "Q:5. Explain the concept of type casting in Python with examples.\n",
    "A:5. The procedure to change the type of a data into another is called Type Casting.\n",
    "\n",
    "###"
   ]
  },
  {
   "cell_type": "code",
   "execution_count": 15,
   "id": "31223924-03c6-42d9-93d1-b338c421934d",
   "metadata": {},
   "outputs": [
    {
     "data": {
      "text/plain": [
       "5.0"
      ]
     },
     "execution_count": 15,
     "metadata": {},
     "output_type": "execute_result"
    }
   ],
   "source": [
    "#Example of type casting#\n",
    "a= 5\n",
    "type(a) #this will show the type of a\n",
    "a= float(a) #here the type of a is changed for int to float\n",
    "a"
   ]
  },
  {
   "cell_type": "code",
   "execution_count": null,
   "id": "21e78dc1-acb1-4755-b7fb-fc0e7605d251",
   "metadata": {},
   "outputs": [],
   "source": [
    "###\n",
    "Q:6. How do conditional statements work in Python? Illustrate with examples?\n",
    "A:6. Connditional statements in Python work on the principle that it will only execute a block of code if the criteria/ requirement is met.It will execute code based on the evaluation of one or more conditions.\n",
    "###\n",
    "\n"
   ]
  },
  {
   "cell_type": "code",
   "execution_count": 16,
   "id": "e0a9129c-7981-4532-8069-8c4f16d12927",
   "metadata": {},
   "outputs": [
    {
     "name": "stdin",
     "output_type": "stream",
     "text": [
      "What is your score? 56\n"
     ]
    },
    {
     "name": "stdout",
     "output_type": "stream",
     "text": [
      "You are in 2nd division\n"
     ]
    }
   ],
   "source": [
    "#example of conditional statements\n",
    "score= input(\"What is your score?\") #here the user is giving in the input\n",
    "a= int(score)\n",
    "if a <=30: #condition 1\n",
    "    print(\"You have failed. Retake the test\")\n",
    "elif a <= 50: #condition 2\n",
    "    print(\"You are in 3rd division\")\n",
    "elif a <= 70: #condition 3\n",
    "    print(\"You are in 2nd division\")\n",
    "elif a <= 90: #condition 4\n",
    "    print(\"you are in 1st division\")\n",
    "else: #condition 5\n",
    "    print(\"You are 1st class\")\n",
    "    #based on the input by the user, the program will execute that block of the code where the criteria is met"
   ]
  },
  {
   "cell_type": "code",
   "execution_count": null,
   "id": "dbe2b0e1-3c0f-4d59-be15-29c7b989cd18",
   "metadata": {},
   "outputs": [],
   "source": [
    "###\n",
    "Q:7. Describe the different types of loops in Python and their use cases with examples.\n",
    "A.7: There are 2 types of loops in Python- FOR loops and WHILE loops.\n",
    "Loops are used to execute a sequence of code or actions until a specific condition is met.\n",
    "FOR loops are used for iterating a sequence of elements and on the other hand WHILE loops are used to execute a sequence until a specified condition is met.\n",
    "###"
   ]
  },
  {
   "cell_type": "code",
   "execution_count": 23,
   "id": "a434cebc-726c-4343-a110-1d158b863120",
   "metadata": {},
   "outputs": [
    {
     "name": "stdout",
     "output_type": "stream",
     "text": [
      "1\n",
      "2\n",
      "4\n",
      "5.0\n",
      "Raj\n",
      "(5+6j)\n"
     ]
    }
   ],
   "source": [
    "#example of FOR loop\n",
    "for i in [1,2,3,4, 5.0, \"Raj\", 5+6j]: #i will keep iterating each piece of data in the list until each and every iteration is covered\n",
    "    if i== 3: #here we put in a condition that if the value of i is 3 at anypoint during the execution, the program will just skip that and continue to run the rest\n",
    "        continue\n",
    "    print (i)\n",
    "    "
   ]
  },
  {
   "cell_type": "code",
   "execution_count": 30,
   "id": "6b9a0e67-13a5-4c45-a392-70bdd4e4dec6",
   "metadata": {},
   "outputs": [
    {
     "name": "stdout",
     "output_type": "stream",
     "text": [
      "* \n",
      "* * \n",
      "* * * \n",
      "* * * * \n"
     ]
    }
   ],
   "source": [
    "#example of WHILE loop\n",
    "a= 1\n",
    "while a<=4:\n",
    "    b=1\n",
    "    while b<=a:\n",
    "        print(\"*\", end=\" \")\n",
    "        b=b+1\n",
    "    print()\n",
    "    a=a+1\n"
   ]
  },
  {
   "cell_type": "code",
   "execution_count": null,
   "id": "9e396b44-cb9f-43ad-a3c7-30a91029c65c",
   "metadata": {},
   "outputs": [],
   "source": []
  }
 ],
 "metadata": {
  "kernelspec": {
   "display_name": "Python 3 (ipykernel)",
   "language": "python",
   "name": "python3"
  },
  "language_info": {
   "codemirror_mode": {
    "name": "ipython",
    "version": 3
   },
   "file_extension": ".py",
   "mimetype": "text/x-python",
   "name": "python",
   "nbconvert_exporter": "python",
   "pygments_lexer": "ipython3",
   "version": "3.13.2"
  }
 },
 "nbformat": 4,
 "nbformat_minor": 5
}
